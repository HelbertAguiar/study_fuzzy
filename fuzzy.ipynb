{
 "cells": [
  {
   "cell_type": "code",
   "execution_count": null,
   "metadata": {},
   "outputs": [],
   "source": [
    "%pip install -U scikit-fuzzy\n",
    "%pip install numpy\n",
    "%pip install pandas\n",
    "# o scikit-fuzzy depende da lib abaixo\n",
    "%pip install networkx\n"
   ]
  },
  {
   "cell_type": "markdown",
   "metadata": {},
   "source": [
    "Aplicando logica fuzzy na atividade dos municipios"
   ]
  },
  {
   "cell_type": "code",
   "execution_count": null,
   "metadata": {},
   "outputs": [],
   "source": [
    "import numpy as np\n",
    "import pandas as pd\n",
    "import skfuzzy as fuzz\n",
    "from skfuzzy import control as ctrl"
   ]
  },
  {
   "cell_type": "markdown",
   "metadata": {},
   "source": [
    "### Significado das colunas (variaveis de entrada) no dataset\n",
    "* 'perc_dom_pobres_var1'    => Percentual entre quantidade de domicílios pobres e o número de domicílios no município\n",
    "* 'perc_pobres_0a11_var2'   => Percentual de crianças pobres entre 0 e 11 anos\n",
    "* 'per_dom_vuln_var3'       => Percentual entre quantidade de domicílios vulneráveis (em risco) pobres e o número de domicílios no município\n",
    "* 'num_idhm'                => IDH do município"
   ]
  },
  {
   "cell_type": "markdown",
   "metadata": {},
   "source": [
    "### Significado das colunas (variaveis de entrada) no dataset\n",
    "* 'necessidade_auxilio'    => Indicador de Necessidade de Auxílio Governamental Urgente para a Infância"
   ]
  },
  {
   "cell_type": "code",
   "execution_count": null,
   "metadata": {},
   "outputs": [],
   "source": [
    "# Caminho do arquivo carregado\n",
    "dataset_path = './MunicipioBrasil_20230102.csv'\n",
    "\n",
    "# Lendo o arquivo para capturar colunas úteis\n",
    "selected_columns_fuzzy = ['perc_dom_pobres_var1', 'perc_pobres_0a11_var2', 'per_dom_vuln_var3', 'num_idhm']\n",
    "selected_columns_general = ['cod_mun', 'nom_mun']\n",
    "selected_columns = selected_columns_fuzzy + selected_columns_general\n",
    "\n",
    "df = pd.read_csv(dataset_path, usecols=selected_columns)\n",
    "\n",
    "# Convertendo as colunas de string para float (substituindo vírgulas por pontos)\n",
    "for column in selected_columns_fuzzy:\n",
    "    df[column] = df[column].str.replace(',', '.').astype(float)\n",
    "\n",
    "# Substituindo valores NaN por 0 em todo o DataFrame\n",
    "df = df.fillna(0)\n",
    "\n",
    "df.head(5)"
   ]
  },
  {
   "cell_type": "code",
   "execution_count": null,
   "metadata": {},
   "outputs": [],
   "source": [
    "# Criando a variável fuzzy de SAIDA\n",
    "## referente ao Indicador de Necessidade de Auxílio Governamental Urgente para a Infância\n",
    "necessidade_auxilio     = ctrl.Consequent(np.arange(0, 101, 1), 'necessidade_auxilio') "
   ]
  },
  {
   "cell_type": "code",
   "execution_count": null,
   "metadata": {},
   "outputs": [],
   "source": [
    "# Calculando os universos fuzzy (limites) das variaveis de ENTRADA com base nos valores das colunas\n",
    "domicilio_pobre_range       = (df['perc_dom_pobres_var1'].min()     , df['perc_dom_pobres_var1'].max())\n",
    "crianca_pobre_range         = (df['perc_pobres_0a11_var2'].min()    , df['perc_pobres_0a11_var2'].max())\n",
    "domicilio_vulneravel_range  = (df['per_dom_vuln_var3'].min()        , df['per_dom_vuln_var3'].max())\n",
    "idh_municipio_range         = (df['num_idhm'].min()                 , df['num_idhm'].max())\n",
    "\n",
    "# Criando as variáveis fuzzy de ENTRADA\n",
    "## de entrada com base nos valores do DataFrame\n",
    "domicilio_pobre         = ctrl.Antecedent(np.linspace(domicilio_pobre_range[0]          , domicilio_pobre_range[1]      , 100), 'domicilio_pobre')\n",
    "crianca_pobre           = ctrl.Antecedent(np.linspace(crianca_pobre_range[0]            , crianca_pobre_range[1]        , 100), 'crianca_pobre')\n",
    "domicilio_vulneravel    = ctrl.Antecedent(np.linspace(domicilio_vulneravel_range[0]     , domicilio_vulneravel_range[1] , 100), 'domicilio_vulneravel')\n",
    "idh_municipio           = ctrl.Antecedent(np.linspace(idh_municipio_range[0]            , idh_municipio_range[1]        , 100), 'idh_municipio')"
   ]
  },
  {
   "cell_type": "code",
   "execution_count": null,
   "metadata": {},
   "outputs": [],
   "source": [
    "# Definindo os termos linguísticos para as variáveis fuzzy de SAIDA\n",
    "necessidade_auxilio['baixissimo']   = fuzz.trapmf(necessidade_auxilio.universe, [0, 0, 5, 10])\n",
    "necessidade_auxilio['baixo']        = fuzz.trimf(necessidade_auxilio.universe, [6, 10, 30])\n",
    "necessidade_auxilio['mediano']      = fuzz.trimf(necessidade_auxilio.universe, [11, 30, 70])\n",
    "necessidade_auxilio['alto']         = fuzz.trimf(necessidade_auxilio.universe, [31, 70, 100])\n",
    "necessidade_auxilio['altissimo']    = fuzz.trapmf(necessidade_auxilio.universe, [71, 100, 100, 100])\n",
    "\n",
    "# Definindo os termos linguísticos para as variáveis fuzzy de ENTRADA\n",
    "## Variáveis de entrada\n",
    "domicilio_pobre['baixissimo']   = fuzz.trapmf(domicilio_pobre.universe, [0, 0, 20, 40])\n",
    "domicilio_pobre['baixo']        = fuzz.trimf(domicilio_pobre.universe, [21, 40, 60])\n",
    "domicilio_pobre['mediano']      = fuzz.trimf(domicilio_pobre.universe, [41, 60, 70])\n",
    "domicilio_pobre['alto']         = fuzz.trimf(domicilio_pobre.universe, [61, 70, 100])\n",
    "domicilio_pobre['altissimo']    = fuzz.trapmf(domicilio_pobre.universe, [71, 100, 100, 100])\n",
    "\n",
    "idh_municipio['baixo']          = fuzz.trapmf(idh_municipio.universe, [0, 0, 0.499, 0.5])\n",
    "idh_municipio['medio']          = fuzz.trimf(idh_municipio.universe, [0.5, 0.799, 0.8])\n",
    "idh_municipio['alto']           = fuzz.trapmf(idh_municipio.universe, [0.8, 1, 1, 1])\n",
    "\n",
    "domicilio_vulneravel['baixissimo']  = fuzz.trapmf(domicilio_vulneravel.universe, [0, 0, 5, 10])\n",
    "domicilio_vulneravel['baixo']       = fuzz.trimf(domicilio_vulneravel.universe, [6, 10, 30])\n",
    "domicilio_vulneravel['mediano']     = fuzz.trimf(domicilio_vulneravel.universe, [11, 30, 70])\n",
    "domicilio_vulneravel['alto']        = fuzz.trimf(domicilio_vulneravel.universe, [31, 70, 100])\n",
    "domicilio_vulneravel['altissimo']   = fuzz.trapmf(domicilio_vulneravel.universe, [71, 100, 100, 100])\n",
    "\n",
    "crianca_pobre['baixissimo']     = fuzz.trapmf(crianca_pobre.universe, [0, 0, 2, 10])\n",
    "crianca_pobre['baixo']          = fuzz.trimf(crianca_pobre.universe, [3, 10, 20])\n",
    "crianca_pobre['mediano']        = fuzz.trimf(crianca_pobre.universe, [11, 20, 35])\n",
    "crianca_pobre['alto']           = fuzz.trimf(crianca_pobre.universe, [20, 35, 100])\n",
    "crianca_pobre['altissimo']      = fuzz.trapmf(crianca_pobre.universe, [36, 100, 100, 100])"
   ]
  },
  {
   "cell_type": "code",
   "execution_count": null,
   "metadata": {},
   "outputs": [],
   "source": [
    "# Regras fuzzy com no máximo 2 a 3 variáveis de entrada, limitado a 2 regras por saída\n",
    "rules = [\n",
    "    # Regras para \"baixíssimo\"\n",
    "    ctrl.Rule(domicilio_pobre['baixissimo'] & crianca_pobre['baixissimo'], necessidade_auxilio['baixissimo']),\n",
    "    ctrl.Rule(idh_municipio['alto'] & crianca_pobre['baixissimo'], necessidade_auxilio['baixissimo']),\n",
    "\n",
    "    # Regras para \"baixo\"\n",
    "    ctrl.Rule(domicilio_pobre['baixo'] & crianca_pobre['baixo'], necessidade_auxilio['baixo']),\n",
    "    ctrl.Rule(idh_municipio['medio'] & domicilio_vulneravel['baixo'], necessidade_auxilio['baixo']),\n",
    "\n",
    "    # Regras para \"mediano\"\n",
    "    ctrl.Rule(domicilio_pobre['mediano'] & crianca_pobre['mediano'], necessidade_auxilio['mediano']),\n",
    "    ctrl.Rule(idh_municipio['medio'] & domicilio_vulneravel['mediano'], necessidade_auxilio['mediano']),\n",
    "\n",
    "    # Regras para \"alto\"\n",
    "    ctrl.Rule(domicilio_pobre['alto'] & crianca_pobre['alto'], necessidade_auxilio['alto']),\n",
    "    ctrl.Rule(domicilio_pobre['alto'] & crianca_pobre['altissimo'], necessidade_auxilio['alto']),\n",
    "    ctrl.Rule(domicilio_pobre['altissimo'] & crianca_pobre['alto'], necessidade_auxilio['alto']),\n",
    "    ctrl.Rule(idh_municipio['baixo'] & domicilio_vulneravel['alto'], necessidade_auxilio['alto']),\n",
    "    ctrl.Rule(idh_municipio['medio'] & crianca_pobre['alto'], necessidade_auxilio['alto']),\n",
    "\n",
    "    # Regras para \"altíssimo\"\n",
    "    ctrl.Rule(domicilio_pobre['altissimo'] & crianca_pobre['altissimo'], necessidade_auxilio['altissimo']),\n",
    "    ctrl.Rule(idh_municipio['baixo'] & domicilio_vulneravel['altissimo'], necessidade_auxilio['altissimo']),\n",
    "    ctrl.Rule(idh_municipio['baixo'] & domicilio_pobre['altissimo'], necessidade_auxilio['altissimo']),\n",
    "]\n",
    "\n",
    "# Criar o sistema de controle fuzzy\n",
    "necessidade_auxilio_ctrl = ctrl.ControlSystem(rules)\n",
    "necessidade_auxilio_sim = ctrl.ControlSystemSimulation(necessidade_auxilio_ctrl)\n"
   ]
  },
  {
   "cell_type": "code",
   "execution_count": null,
   "metadata": {},
   "outputs": [],
   "source": [
    "# Define a função para categorizar os valores\n",
    "def categorizar(valor):\n",
    "\n",
    "    if 0 <= valor <= 5:\n",
    "        return \"baixissimo\"\n",
    "    elif 6 <= valor <= 10:\n",
    "        return \"baixo\"\n",
    "    elif 11 <= valor <= 30:\n",
    "        return \"mediano\"\n",
    "    elif 31 <= valor <= 70:\n",
    "        return \"alto\"\n",
    "    elif 71 <= valor <= 100:\n",
    "        return \"altissimo\"\n",
    "    else:\n",
    "        return \"fora do intervalo\"\n",
    "\n",
    "\n",
    "def calcula_auxilio(row):\n",
    "    global necessidade_auxilio_sim\n",
    "\n",
    "    necessidade_auxilio_sim.input['domicilio_pobre']        = row['perc_dom_pobres_var1']\n",
    "    necessidade_auxilio_sim.input['idh_municipio']          = row['num_idhm']\n",
    "    necessidade_auxilio_sim.input['domicilio_vulneravel']   = row['per_dom_vuln_var3']\n",
    "    necessidade_auxilio_sim.input['crianca_pobre']          = row['perc_pobres_0a11_var2']\n",
    "    necessidade_auxilio_sim.compute()\n",
    "    try:\n",
    "        resultado = necessidade_auxilio_sim.output['necessidade_auxilio']\n",
    "    except:\n",
    "        resultado = 0\n",
    "\n",
    "    return resultado\n",
    "\n",
    "df['necessidade_auxilio'] = -1\n",
    "df['necessidade_auxilio'] = df.apply(calcula_auxilio, axis=1)\n",
    "df[\"resultado\"] = df[\"necessidade_auxilio\"].apply(categorizar)\n",
    "df.to_csv('./resultado_potencial_auxilio_municipios_simfuzzy.csv', index=False)\n",
    "\n",
    "# printa resumo do resultado\n",
    "print(df['resultado'].value_counts())"
   ]
  }
 ],
 "metadata": {
  "kernelspec": {
   "display_name": "Python 3",
   "language": "python",
   "name": "python3"
  },
  "language_info": {
   "codemirror_mode": {
    "name": "ipython",
    "version": 3
   },
   "file_extension": ".py",
   "mimetype": "text/x-python",
   "name": "python",
   "nbconvert_exporter": "python",
   "pygments_lexer": "ipython3",
   "version": "3.12.3"
  }
 },
 "nbformat": 4,
 "nbformat_minor": 2
}
